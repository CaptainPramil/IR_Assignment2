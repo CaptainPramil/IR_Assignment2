{
 "cells": [
  {
   "cell_type": "markdown",
   "metadata": {},
   "source": [
    "## Question 3- Ranked-Information Retrieval and Evaluation [25 points]Use the data file provided here . This has been taken from Microsoft learning to rank dataset,which can be found here . Read about the dataset carefully, and what all it contains.\n",
    " ## 1. Consider only the queries with qid:4 and the relevance judgement labels as relevance score."
   ]
  },
  {
   "cell_type": "code",
   "execution_count": 1,
   "metadata": {},
   "outputs": [],
   "source": [
    "from sklearn.metrics import dcg_score\n",
    "from sklearn.metrics import ndcg_score\n",
    "import numpy as np\n",
    "import math"
   ]
  },
  {
   "cell_type": "markdown",
   "metadata": {},
   "source": [
    "## This will open the file and convert each record in form of dictionary"
   ]
  },
  {
   "cell_type": "code",
   "execution_count": 2,
   "metadata": {},
   "outputs": [],
   "source": [
    "file = open(\"D:\\\\IR_Assignment_2\\\\Data_qid4.txt\")\n",
    "file_contents = file.read()\n",
    "contents_split = file_contents.splitlines()\n",
    "dic_record = {}\n",
    "#Convert each row and store in form of dictionary\n",
    "for indx,l in enumerate(contents_split):\n",
    "    dic_record[indx] = l"
   ]
  },
  {
   "cell_type": "code",
   "execution_count": 3,
   "metadata": {},
   "outputs": [
    {
     "name": "stdout",
     "output_type": "stream",
     "text": [
      "[0, 0, 0, 0, 1, 0, 1, 3, 0, 0, 1, 0, 0, 1, 0, 0, 0, 1, 2, 2, 1, 2, 2, 0, 1, 2, 0, 0, 0, 1, 0, 0, 1, 0, 2, 0, 2, 2, 1, 0, 2, 0, 0, 0, 0, 0, 0, 0, 0, 0, 0, 0, 2, 1, 0, 1, 0, 0, 2, 0, 1, 2, 2, 0, 0, 0, 1, 0, 2, 0, 0, 0, 1, 0, 1, 1, 2, 0, 0, 0, 0, 0, 1, 1, 1, 1, 0, 0, 1, 0, 2, 0, 1, 0, 0, 0, 1, 0, 0, 1, 2, 1, 0]\n"
     ]
    }
   ],
   "source": [
    "#Find the predicted relevence in the file\n",
    "predic_rel=[j for i in dic_record for j in dic_record[i][0]]\n",
    "#Convert the list into integer\n",
    "predic_rel = [int(i) for i in predic_rel]\n",
    "print(predic_rel)"
   ]
  },
  {
   "cell_type": "markdown",
   "metadata": {},
   "source": [
    "## Find the Unique value of relevance"
   ]
  },
  {
   "cell_type": "code",
   "execution_count": 4,
   "metadata": {},
   "outputs": [
    {
     "name": "stdout",
     "output_type": "stream",
     "text": [
      "['3', '2', '1', '0']\n"
     ]
    }
   ],
   "source": [
    "#Sort the dictionary based on the relevance\n",
    "new_dic_record = {}\n",
    "\n",
    "#get unique value for relevance\n",
    "unique_rel = {j for i in dic_record for j in dic_record[i][0]}    \n",
    "    \n",
    "#\n",
    "sort_unique_rel = sorted(unique_rel,reverse=True)\n",
    "print(sort_unique_rel)"
   ]
  },
  {
   "cell_type": "markdown",
   "metadata": {},
   "source": [
    "## Create new file to store the record to maximize the DCG score"
   ]
  },
  {
   "cell_type": "code",
   "execution_count": 5,
   "metadata": {},
   "outputs": [],
   "source": [
    "#based on the relevance decreasing order each entry is placed in file\n",
    "maxDCGFile = open(\"D:\\\\IR_Assignment_2\\\\Data_qid4_MaxDCG.txt\",\"w+\")\n",
    "for relevence in sort_unique_rel:\n",
    "    s = (val for key, val in dic_record.items() if val[0] in relevence)\n",
    "    for s1 in s: \n",
    "        maxDCGFile.write(s1+\"\\n\")\n",
    "maxDCGFile.close()   "
   ]
  },
  {
   "cell_type": "markdown",
   "metadata": {},
   "source": [
    "## Creating the true relevance "
   ]
  },
  {
   "cell_type": "code",
   "execution_count": 6,
   "metadata": {},
   "outputs": [],
   "source": [
    "file = open(\"D:\\\\IR_Assignment_2\\\\Data_qid4_MaxDCG.txt\")\n",
    "file_contents = file.read()\n",
    "contents_split = file_contents.splitlines()\n",
    "max_dic_record = {}\n",
    "#Convert each row and store in form of dictionary\n",
    "for indx,l in enumerate(contents_split):\n",
    "    max_dic_record[indx] = l"
   ]
  },
  {
   "cell_type": "code",
   "execution_count": 7,
   "metadata": {},
   "outputs": [
    {
     "name": "stdout",
     "output_type": "stream",
     "text": [
      "[3, 2, 2, 2, 2, 2, 2, 2, 2, 2, 2, 2, 2, 2, 2, 2, 2, 2, 1, 1, 1, 1, 1, 1, 1, 1, 1, 1, 1, 1, 1, 1, 1, 1, 1, 1, 1, 1, 1, 1, 1, 1, 1, 1, 0, 0, 0, 0, 0, 0, 0, 0, 0, 0, 0, 0, 0, 0, 0, 0, 0, 0, 0, 0, 0, 0, 0, 0, 0, 0, 0, 0, 0, 0, 0, 0, 0, 0, 0, 0, 0, 0, 0, 0, 0, 0, 0, 0, 0, 0, 0, 0, 0, 0, 0, 0, 0, 0, 0, 0, 0, 0, 0]\n",
      "Count of different relevence : [59, 26, 17, 1]\n"
     ]
    }
   ],
   "source": [
    "#Find the true relevence in the file\n",
    "true_rel=[j for i in max_dic_record for j in max_dic_record[i][0]]\n",
    "\n",
    "#Convert the list into integer\n",
    "true_rel = [int(i) for i in true_rel]\n",
    "\n",
    "#Count number of query - url pair for each category\n",
    "print(true_rel)\n",
    "countNum =[]\n",
    "#initialize the count variable\n",
    "for i in sort_unique_rel:\n",
    "    countNum.append(0)\n",
    "    \n",
    "#Counting the relevence  \n",
    "for i in true_rel:\n",
    "    countNum[i] = countNum[i] + 1\n",
    "print(\"Count of different relevence : {}\".format(countNum))\n",
    "\n"
   ]
  },
  {
   "cell_type": "markdown",
   "metadata": {},
   "source": [
    "## 2. [ 10 points ] Make a file rearranging the query-url pairs in order of max DCG. State how many such files could be made."
   ]
  },
  {
   "cell_type": "code",
   "execution_count": 8,
   "metadata": {},
   "outputs": [
    {
     "data": {
      "text/plain": [
       "13.976691594336575"
      ]
     },
     "execution_count": 8,
     "metadata": {},
     "output_type": "execute_result"
    }
   ],
   "source": [
    "true_rel = np.asarray([list(true_rel)])\n",
    "predicted_rel = np.asarray([list(predic_rel)])"
   ]
  },
  {
   "cell_type": "code",
   "execution_count": 9,
   "metadata": {},
   "outputs": [
    {
     "name": "stdout",
     "output_type": "stream",
     "text": [
      "DCG score for original file 13.976691594336575\n",
      "Maximum DCG Score : 19.407247618668023\n"
     ]
    }
   ],
   "source": [
    "#Calcluate the DCG score for original file\n",
    "DCG_Score = dcg_score(true_rel, predicted_rel)\n",
    "print(\"DCG score for original file {}\".format(DCG_Score))\n",
    "\n",
    "#Maximum DCG\n",
    "DCG_Max = dcg_score(true_rel,true_rel)\n",
    "print(\"Maximum DCG Score : {}\".format(DCG_Max))\n",
    "\n",
    "#Calcluate number of file with maximum DCG\n",
    "#This is calcluated by taking the \n",
    "num_File_Max_DCG = 0\n",
    "for n in countNum:\n",
    "    num_File_Max_DCG = num_File_Max_DCG + math.factorial(n)\n",
    "print(\"Number of files with MAximum DCG : {}\".format(num_File_Max_DCG))"
   ]
  },
  {
   "cell_type": "markdown",
   "metadata": {},
   "source": [
    "## 3. [ 5 points ] Compute nDCG\n",
    " ### a. At 50\n",
    " ### b. For the whole dataset"
   ]
  },
  {
   "cell_type": "code",
   "execution_count": 14,
   "metadata": {},
   "outputs": [
    {
     "name": "stdout",
     "output_type": "stream",
     "text": [
      "nDCG score at 50 : 0.44584891619161\n"
     ]
    }
   ],
   "source": [
    "#Calcluate the nDCG at 50\n",
    "nDCG_50 = ndcg_score(true_rel,predicted_rel,k=50)\n",
    "print(\"nDCG score at 50 : {}\".format(nDCG_50))"
   ]
  },
  {
   "cell_type": "code",
   "execution_count": 12,
   "metadata": {},
   "outputs": [
    {
     "name": "stdout",
     "output_type": "stream",
     "text": [
      "nDCG of entire file : 0.7201789696799795\n"
     ]
    }
   ],
   "source": [
    "#calcluate DCG of entire file\n",
    "nDCG = ndcg_score(true_rel,predicted_rel)\n",
    "print(\"nDCG of entire file : {}\".format(nDCG))"
   ]
  },
  {
   "cell_type": "code",
   "execution_count": null,
   "metadata": {},
   "outputs": [],
   "source": []
  },
  {
   "cell_type": "code",
   "execution_count": null,
   "metadata": {},
   "outputs": [],
   "source": []
  }
 ],
 "metadata": {
  "kernelspec": {
   "display_name": "Python 3",
   "language": "python",
   "name": "python3"
  },
  "language_info": {
   "codemirror_mode": {
    "name": "ipython",
    "version": 3
   },
   "file_extension": ".py",
   "mimetype": "text/x-python",
   "name": "python",
   "nbconvert_exporter": "python",
   "pygments_lexer": "ipython3",
   "version": "3.8.5"
  }
 },
 "nbformat": 4,
 "nbformat_minor": 4
}
